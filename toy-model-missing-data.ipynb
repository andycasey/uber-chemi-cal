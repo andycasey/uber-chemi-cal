{
 "cells": [
  {
   "cell_type": "code",
   "execution_count": 1,
   "metadata": {
    "collapsed": true
   },
   "outputs": [],
   "source": [
    "import numpy as np\n",
    "import matplotlib.pyplot as plt\n",
    "\n",
    "import stan_utils as stan\n",
    "from mpl_utils import (mpl_style, common_limits)\n",
    "\n",
    "plt.style.use(mpl_style)\n",
    "\n",
    "np.random.seed(42)\n",
    "\n",
    "%matplotlib inline"
   ]
  },
  {
   "cell_type": "code",
   "execution_count": 13,
   "metadata": {
    "collapsed": true
   },
   "outputs": [],
   "source": [
    "def generate_data(N, M, D, overlap_fraction=None, scales=None,\n",
    "                  phi_scale=1, seed=None):\n",
    "    \"\"\"\n",
    "    Generate some toy data to play with. Here we assume all :math:`N` stars have\n",
    "    been observed by all :math:`M` surveys.\n",
    "\n",
    "    :param N:\n",
    "        The number of stars observed.\n",
    "\n",
    "    :param M:\n",
    "        The number of surveys.\n",
    "\n",
    "    :param D:\n",
    "        The dimensionality of the label space.\n",
    "\n",
    "    :param overlap_fraction: [optional]\n",
    "        The approximate fraction of stars observed by each survey. If `None` is\n",
    "        provided then some random ~50% of stars will be observed by each survey.\n",
    "        If provided, this should be a list of length `M` with values between 0\n",
    "        (no overlap) and 1 (complete overlap).\n",
    "\n",
    "    :param scales: [optional]\n",
    "        Optional values to provide for the relative scales on the latent factors.\n",
    "\n",
    "    :param seed: [optional]\n",
    "        An optional seed to provide to the random number generator.\n",
    "        \n",
    "    :param phi_scale: [optional]\n",
    "        An optional scale value for the uncertainties.\n",
    "\n",
    "    :returns:\n",
    "        A two-length tuple containing the data :math:`y` and a dictionary with\n",
    "        the true values.\n",
    "    \"\"\"\n",
    "\n",
    "    if seed is not None:\n",
    "        np.random.seed(seed)\n",
    "\n",
    "    if scales is None:\n",
    "        scales = np.abs(np.random.normal(0, 1, size=D))\n",
    "\n",
    "    else:\n",
    "        scales = np.array(scales)\n",
    "        \n",
    "    if overlap_fraction is None:\n",
    "        overlap_fraction = np.random.normal(0.5, 0.05, size=M)\n",
    "    else:\n",
    "        overlap_fraction = np.array(overlap_fraction)\n",
    "        assert  overlap_fraction.size == M\n",
    "        \n",
    "\n",
    "    assert len(scales) == D\n",
    "\n",
    "    X = np.random.normal(\n",
    "        np.zeros(D),\n",
    "        scales,\n",
    "        size=(N, D))\n",
    "\n",
    "    # TODO: Better way to randomly generate positive semi-definite covariance\n",
    "    #       matrices that are *very* close to an identity matrix.\n",
    "\n",
    "    # Use decomposition to ensure the resulting covariance matrix is positive\n",
    "    # semi-definite.\n",
    "    L = np.random.randn(M, D, D)\n",
    "    L[:, np.arange(D), np.arange(D)] = np.exp(L[:, np.arange(D), np.arange(D)])\n",
    "    i, j = np.triu_indices_from(L[0], 1)\n",
    "    L[:, i, j] = 0.0\n",
    "\n",
    "    # TODO: use matrix multiplication you idiot\n",
    "    theta = np.array([np.dot(L[i], L[i].T) for i in range(M)])\n",
    "\n",
    "    y = np.dot(X, theta)\n",
    "    for m, of in enumerate(overlap_fraction):\n",
    "        indices = np.where(np.random.uniform(0, 1, size=N) <= of)[0]\n",
    "        y[indices, m, :] = np.nan\n",
    "        \n",
    "    # add noise.\n",
    "    phi = np.abs(np.random.normal(0, phi_scale, size=(M, D)))\n",
    "    rank = np.random.normal(0, 1, size=y.shape)\n",
    "\n",
    "    noise = scales * rank * phi \n",
    "\n",
    "    y += noise\n",
    "\n",
    "    truths = dict(X=X, theta=theta, phi=phi, scales=scales, L=L, noise=noise)\n",
    "\n",
    "    return (y, truths)"
   ]
  },
  {
   "cell_type": "code",
   "execution_count": 14,
   "metadata": {},
   "outputs": [],
   "source": [
    "N, M, D = (250, 10, 5)\n",
    "scales = np.ones(D)\n",
    "phi_scale = 1\n",
    "\n",
    "y, truths = generate_data(N=N, M=M, D=D, \n",
    "                          scales=scales, phi_scale=phi_scale)"
   ]
  },
  {
   "cell_type": "code",
   "execution_count": 27,
   "metadata": {},
   "outputs": [
    {
     "data": {
      "text/plain": [
       "10"
      ]
     },
     "execution_count": 27,
     "metadata": {},
     "output_type": "execute_result"
    }
   ],
   "source": [
    "# "
   ]
  }
 ],
 "metadata": {
  "kernelspec": {
   "display_name": "Python (py3)",
   "language": "python",
   "name": "py3"
  },
  "language_info": {
   "codemirror_mode": {
    "name": "ipython",
    "version": 3
   },
   "file_extension": ".py",
   "mimetype": "text/x-python",
   "name": "python",
   "nbconvert_exporter": "python",
   "pygments_lexer": "ipython3",
   "version": "3.6.1"
  }
 },
 "nbformat": 4,
 "nbformat_minor": 2
}
